{
 "cells": [
  {
   "cell_type": "markdown",
   "id": "51111137",
   "metadata": {},
   "source": [
    "**SPAM EMAIL DETECTION**"
   ]
  },
  {
   "cell_type": "code",
   "execution_count": null,
   "id": "eb80f826",
   "metadata": {},
   "outputs": [],
   "source": []
  }
 ],
 "metadata": {
  "language_info": {
   "name": "python"
  }
 },
 "nbformat": 4,
 "nbformat_minor": 5
}
